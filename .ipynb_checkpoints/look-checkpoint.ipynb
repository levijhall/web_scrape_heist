{
 "cells": [
  {
   "cell_type": "markdown",
   "id": "e7fdbb9d",
   "metadata": {},
   "source": [
    "# Video timeslots"
   ]
  },
  {
   "cell_type": "markdown",
   "id": "89654ac7",
   "metadata": {},
   "source": [
    "## With the movie selected, retreive the timestamps from the sub file"
   ]
  },
  {
   "cell_type": "code",
   "execution_count": 29,
   "id": "81e0fd11",
   "metadata": {},
   "outputs": [],
   "source": [
    "import pandas as pd\n",
    "import pysrt\n",
    "from io import BytesIO"
   ]
  },
  {
   "cell_type": "code",
   "execution_count": 2,
   "id": "791495fa",
   "metadata": {},
   "outputs": [],
   "source": [
    "df = pd.read_pickle('films.pkl')"
   ]
  },
  {
   "cell_type": "code",
   "execution_count": 21,
   "id": "8ead847a",
   "metadata": {},
   "outputs": [],
   "source": [
    "# remove header\n",
    "subtitles = df.loc[df['Film'] == 'The Town']['Subs'].iloc[0][3:]"
   ]
  },
  {
   "cell_type": "code",
   "execution_count": 36,
   "id": "d985586f",
   "metadata": {},
   "outputs": [],
   "source": [
    "subs = pysrt.from_string(subtitles)"
   ]
  },
  {
   "cell_type": "code",
   "execution_count": 68,
   "id": "921bcfb3",
   "metadata": {},
   "outputs": [],
   "source": [
    "timeslots = []\n",
    "\n",
    "for line in subs:\n",
    "    if \"look\" in line.text.lower():\n",
    "        text = ' '.join([str(line.start), \"-->\", str(line.end)])\n",
    "        timeslots.append(text)"
   ]
  },
  {
   "cell_type": "code",
   "execution_count": 72,
   "id": "0267bfce",
   "metadata": {},
   "outputs": [],
   "source": [
    "with open(\"looks.txt\", \"w\") as f:\n",
    "    f.write('\\n'.join(timeslots))"
   ]
  },
  {
   "cell_type": "markdown",
   "id": "a46f6458",
   "metadata": {},
   "source": [
    "## With an editted timestamp file, clip each scene and append them together\n",
    "\n",
    "Some of the clips sit right next to each other, or are incorrectly placed to match the audio. This is a manual correction step that is not easily automated."
   ]
  },
  {
   "cell_type": "code",
   "execution_count": 9,
   "id": "41ac9465-30d6-4e96-be00-3e568e9a1799",
   "metadata": {},
   "outputs": [],
   "source": [
    "import subprocess"
   ]
  },
  {
   "cell_type": "code",
   "execution_count": 10,
   "id": "b186e4d8-b836-4cc5-8794-ebc973792e90",
   "metadata": {},
   "outputs": [],
   "source": [
    "start = []\n",
    "end = []\n",
    "\n",
    "lines = []\n",
    "\n",
    "with open(\"look.txt\", \"r\") as f:\n",
    "    lines = f.readlines()\n",
    "    \n",
    "for line in lines:\n",
    "    a, b = line.split('-->')\n",
    "    start.append(a.strip().replace(',','.'))\n",
    "    end.append(b.strip().replace(',','.'))"
   ]
  },
  {
   "cell_type": "code",
   "execution_count": 11,
   "id": "e25275e2-4bd3-44a4-8296-eecc686c4450",
   "metadata": {},
   "outputs": [],
   "source": [
    "video = 'The Town.mp4'"
   ]
  },
  {
   "cell_type": "markdown",
   "id": "e5b323ac",
   "metadata": {},
   "source": [
    "Since we are not saving the encoding layer, this step will take a while."
   ]
  },
  {
   "cell_type": "code",
   "execution_count": 13,
   "id": "e8fcb0b6-0373-4bec-9d7d-1cdf0adb77c6",
   "metadata": {},
   "outputs": [],
   "source": [
    "resume = 0"
   ]
  },
  {
   "cell_type": "code",
   "execution_count": 14,
   "id": "d5600b5c-ed97-4a3b-9a3a-f75a374179b4",
   "metadata": {},
   "outputs": [
    {
     "name": "stdout",
     "output_type": "stream",
     "text": [
      "0 00:02:12.549 00:02:16.804\n",
      "1 00:03:49.938 00:03:52.191\n",
      "2 00:06:31.641 00:06:34.565\n",
      "3 00:10:34.717 00:10:36.719\n",
      "4 00:15:30.513 00:15:34.859\n",
      "5 00:15:49.198 00:15:50.370\n",
      "6 00:15:56.038 00:15:57.881\n",
      "7 00:19:10.107 00:19:11.905\n",
      "8 00:22:42.778 00:22:45.530\n",
      "9 00:30:00.048 00:30:03.643\n",
      "10 00:39:23.611 00:39:25.579\n",
      "11 00:40:51.282 00:40:54.832\n",
      "12 00:41:28.027 00:41:31.076\n",
      "13 00:43:01.245 00:43:03.373\n",
      "14 00:44:15.820 00:44:18.573\n",
      "15 00:49:34.680 00:49:38.560\n",
      "16 00:51:55.863 00:51:59.618\n",
      "17 00:54:07.911 00:54:10.790\n",
      "18 00:59:20.223 00:59:23.147\n",
      "19 01:02:45.887 01:02:47.855\n",
      "20 01:02:51.977 01:02:53.650\n",
      "21 01:02:58.316 01:03:01.115\n",
      "22 01:03:01.278 01:03:06.917\n",
      "23 01:03:13.581 01:03:16.801\n",
      "24 01:03:29.973 01:03:32.317\n",
      "25 01:03:55.457 01:04:00.088\n",
      "26 01:04:09.179 01:04:13.104\n",
      "27 01:05:42.355 01:05:44.778\n",
      "28 01:15:03.582 01:15:07.257\n",
      "29 01:15:26.689 01:15:30.614\n",
      "30 01:18:13.000 01:18:15.358\n",
      "31 01:21:31.963 01:21:36.013\n",
      "32 01:26:54.827 01:26:57.330\n",
      "33 01:27:25.000 01:27:27.322\n",
      "34 01:28:15.616 01:28:20.000\n",
      "35 01:31:25.264 01:31:26.607\n",
      "36 01:33:13.000 01:33:17.339\n",
      "37 01:34:57.017 01:34:59.941\n",
      "38 01:35:03.315 01:35:06.489\n",
      "39 01:47:55.420 01:47:59.926\n",
      "40 01:48:24.574 01:48:26.702\n",
      "41 01:59:09.009 01:59:11.933\n",
      "42 02:03:51.875 02:03:55.175\n",
      "43 02:06:28.323 02:06:29.825\n",
      "44 02:08:17.933 02:08:20.277\n",
      "45 02:09:29.000 02:09:32.512\n",
      "46 02:20:59.902 02:21:01.745\n",
      "47 02:23:25.673 02:23:29.427\n"
     ]
    }
   ],
   "source": [
    "for i in range(resume, len(start)):\n",
    "    command = ['ffmpeg', '-i', video, '-ss', start[i], '-to', end[i], 'clips/{}.mp4'.format(i),\n",
    "              '-c:v', 'h264', '-c:a', 'aac']\n",
    "    print(i, start[i], end[i])\n",
    "    subprocess.run(command, shell=True)"
   ]
  },
  {
   "cell_type": "markdown",
   "id": "eae03376",
   "metadata": {},
   "source": [
    "FFmpeg needs to read from a file to append the clips together. Here we can reuse the encoding from each clip for a significant performance improvement."
   ]
  },
  {
   "cell_type": "code",
   "execution_count": 15,
   "id": "afe26c4e-5d1b-43b6-968d-bf395cface71",
   "metadata": {},
   "outputs": [],
   "source": [
    "with open('clips.txt', 'w') as f:\n",
    "    for i in range(len(start)):\n",
    "        f.write(\"file 'clips/{}.mp4'\\n\".format(i))"
   ]
  },
  {
   "cell_type": "code",
   "execution_count": 16,
   "id": "20752127-d997-4d54-a0ab-3f6d37974f5c",
   "metadata": {},
   "outputs": [
    {
     "data": {
      "text/plain": [
       "CompletedProcess(args=['ffmpeg', '-f', 'concat', '-i', 'clips.txt', '-c', 'copy', 'output.mp4'], returncode=0)"
      ]
     },
     "execution_count": 16,
     "metadata": {},
     "output_type": "execute_result"
    }
   ],
   "source": [
    "command = ['ffmpeg', '-f', 'concat', '-i', 'clips.txt', '-c', 'copy', 'output.mp4']\n",
    "subprocess.run(command, shell=True)"
   ]
  },
  {
   "cell_type": "code",
   "execution_count": null,
   "id": "5acc2dd2-27bf-4468-bae0-df813f75287c",
   "metadata": {},
   "outputs": [],
   "source": []
  }
 ],
 "metadata": {
  "kernelspec": {
   "display_name": "Python 3 (ipykernel)",
   "language": "python",
   "name": "python3"
  },
  "language_info": {
   "codemirror_mode": {
    "name": "ipython",
    "version": 3
   },
   "file_extension": ".py",
   "mimetype": "text/x-python",
   "name": "python",
   "nbconvert_exporter": "python",
   "pygments_lexer": "ipython3",
   "version": "3.10.8"
  }
 },
 "nbformat": 4,
 "nbformat_minor": 5
}
