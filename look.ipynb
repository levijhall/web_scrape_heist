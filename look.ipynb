{
 "cells": [
  {
   "attachments": {},
   "cell_type": "markdown",
   "id": "e7fdbb9d",
   "metadata": {},
   "source": [
    "# Video timeslots"
   ]
  },
  {
   "attachments": {},
   "cell_type": "markdown",
   "id": "89654ac7",
   "metadata": {},
   "source": [
    "## With the movie selected, retreive the timestamps from the sub file"
   ]
  },
  {
   "cell_type": "code",
   "execution_count": 1,
   "id": "81e0fd11",
   "metadata": {},
   "outputs": [],
   "source": [
    "import pandas as pd\n",
    "import pysrt\n",
    "from io import BytesIO"
   ]
  },
  {
   "cell_type": "code",
   "execution_count": 2,
   "id": "791495fa",
   "metadata": {},
   "outputs": [],
   "source": [
    "df = pd.read_pickle('films.pkl')"
   ]
  },
  {
   "cell_type": "code",
   "execution_count": 3,
   "id": "8ead847a",
   "metadata": {},
   "outputs": [],
   "source": [
    "# remove header\n",
    "subtitles = df.loc[df['Film'] == 'The Town']['Subs'].iloc[0][3:]"
   ]
  },
  {
   "cell_type": "code",
   "execution_count": 4,
   "id": "d985586f",
   "metadata": {},
   "outputs": [],
   "source": [
    "subs = pysrt.from_string(subtitles)"
   ]
  },
  {
   "cell_type": "code",
   "execution_count": 5,
   "id": "921bcfb3",
   "metadata": {},
   "outputs": [],
   "source": [
    "timeslots = []\n",
    "\n",
    "for line in subs:\n",
    "    if \"look\" in line.text.lower():\n",
    "        text = ' '.join([str(line.start), \"-->\", str(line.end)])\n",
    "        timeslots.append(text)"
   ]
  },
  {
   "cell_type": "code",
   "execution_count": 6,
   "id": "0267bfce",
   "metadata": {},
   "outputs": [],
   "source": [
    "with open(\"look_draft.txt\", \"w\") as f:\n",
    "    f.write('\\n'.join(timeslots))"
   ]
  },
  {
   "attachments": {},
   "cell_type": "markdown",
   "id": "a46f6458",
   "metadata": {},
   "source": [
    "## With an editted timestamp file, clip each scene and append them together\n",
    "\n",
    "Some of the clips sit right next to each other, or are incorrectly placed to match the audio. This is a manual correction step that is not easily automated."
   ]
  },
  {
   "cell_type": "code",
   "execution_count": 7,
   "id": "41ac9465-30d6-4e96-be00-3e568e9a1799",
   "metadata": {},
   "outputs": [],
   "source": [
    "import subprocess"
   ]
  },
  {
   "cell_type": "code",
   "execution_count": 8,
   "id": "b186e4d8-b836-4cc5-8794-ebc973792e90",
   "metadata": {},
   "outputs": [],
   "source": [
    "start = []\n",
    "end = []\n",
    "\n",
    "lines = []\n",
    "\n",
    "with open(\"look.txt\", \"r\") as f:\n",
    "    lines = f.readlines()\n",
    "    \n",
    "for line in lines:\n",
    "    a, b = line.split('-->')\n",
    "    start.append(a.strip().replace(',','.'))\n",
    "    end.append(b.strip().replace(',','.'))"
   ]
  },
  {
   "cell_type": "code",
   "execution_count": 9,
   "id": "e25275e2-4bd3-44a4-8296-eecc686c4450",
   "metadata": {},
   "outputs": [],
   "source": [
    "video = 'The Town.mp4'"
   ]
  },
  {
   "attachments": {},
   "cell_type": "markdown",
   "id": "e5b323ac",
   "metadata": {},
   "source": [
    "Since we are not saving the encoding layer, this step will take a while."
   ]
  },
  {
   "cell_type": "code",
   "execution_count": 10,
   "id": "e8fcb0b6-0373-4bec-9d7d-1cdf0adb77c6",
   "metadata": {},
   "outputs": [],
   "source": [
    "resume = 48"
   ]
  },
  {
   "cell_type": "code",
   "execution_count": 11,
   "id": "d5600b5c-ed97-4a3b-9a3a-f75a374179b4",
   "metadata": {},
   "outputs": [],
   "source": [
    "for i in range(resume, len(start)):\n",
    "    command = ['ffmpeg', '-i', video, '-ss', start[i], '-to', end[i], 'clips/{}.mp4'.format(i),\n",
    "              '-c:v', 'h264', '-c:a', 'aac']\n",
    "    print(i, start[i], end[i])\n",
    "    subprocess.run(command, shell=True)"
   ]
  },
  {
   "attachments": {},
   "cell_type": "markdown",
   "id": "eae03376",
   "metadata": {},
   "source": [
    "FFmpeg needs to read from a file to append the clips together. Here we can reuse the encoding from each clip for a significant performance improvement."
   ]
  },
  {
   "cell_type": "code",
   "execution_count": 12,
   "id": "afe26c4e-5d1b-43b6-968d-bf395cface71",
   "metadata": {},
   "outputs": [],
   "source": [
    "with open('clips.txt', 'w') as f:\n",
    "    for i in range(len(start)):\n",
    "        f.write(\"file 'clips/{}.mp4'\\n\".format(i))"
   ]
  },
  {
   "cell_type": "code",
   "execution_count": 13,
   "id": "20752127-d997-4d54-a0ab-3f6d37974f5c",
   "metadata": {},
   "outputs": [],
   "source": [
    "command = ['ffmpeg', '-f', 'concat', '-i', 'clips.txt', '-c', 'copy', 'output.mp4']\n",
    "subprocess.run(command, shell=True)"
   ]
  }
 ],
 "metadata": {
  "kernelspec": {
   "display_name": "Python 3 (ipykernel)",
   "language": "python",
   "name": "python3"
  },
  "language_info": {
   "codemirror_mode": {
    "name": "ipython",
    "version": 3
   },
   "file_extension": ".py",
   "mimetype": "text/x-python",
   "name": "python",
   "nbconvert_exporter": "python",
   "pygments_lexer": "ipython3",
   "version": "3.10.8"
  }
 },
 "nbformat": 4,
 "nbformat_minor": 5
}
